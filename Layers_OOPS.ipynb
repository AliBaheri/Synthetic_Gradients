{
 "cells": [
  {
   "cell_type": "code",
   "execution_count": null,
   "metadata": {
    "collapsed": true
   },
   "outputs": [],
   "source": []
  },
  {
   "cell_type": "markdown",
   "metadata": {},
   "source": [
    "# Part - 1\n",
    "\n",
    "### Generate dataset"
   ]
  },
  {
   "cell_type": "code",
   "execution_count": 1,
   "metadata": {
    "collapsed": true
   },
   "outputs": [],
   "source": [
    "import numpy as np\n",
    "import sys"
   ]
  },
  {
   "cell_type": "code",
   "execution_count": 2,
   "metadata": {
    "collapsed": true
   },
   "outputs": [],
   "source": [
    "num_examples = 1000\n",
    "output_dim = 12\n",
    "#iterations = 1000"
   ]
  },
  {
   "cell_type": "code",
   "execution_count": 3,
   "metadata": {
    "collapsed": true
   },
   "outputs": [],
   "source": [
    "def int2vec(x,dim=output_dim):\n",
    "    \n",
    "    out = np.zeros(dim) # set output vector = dim number of 0s\n",
    "\n",
    "    binrep = np.array(list(np.binary_repr(x))).astype('int') # get binary representation of the integer\n",
    "\n",
    "    out[-len(binrep):] = binrep # set the last k values to binrep\n",
    "\n",
    "    return out"
   ]
  },
  {
   "cell_type": "code",
   "execution_count": 4,
   "metadata": {
    "collapsed": true
   },
   "outputs": [],
   "source": [
    "def generate_dataset(output_dim = 8,num_examples=1000):\n",
    "    \n",
    "    # np.random.rand(num_examples) = randomly pick num_examples number of real numbers between (0,1)\n",
    "    # multiple each by pow(2,(output_dim - 1)) and get their integer part\n",
    "\n",
    "    x_left_int = (np.random.rand(num_examples) * 2**(output_dim - 1)).astype('int')\n",
    "    x_right_int = (np.random.rand(num_examples) * 2**(output_dim - 1)).astype('int')\n",
    "    y_int = x_left_int + x_right_int\n",
    "    \n",
    "    # Create 2 set of numbers and third set of numbers be their sum \n",
    "    \n",
    "    \n",
    "    x = list()\n",
    "    for i in range(len(x_left_int)):\n",
    "        x.append(np.concatenate((int2vec(x_left_int[i]),int2vec(x_right_int[i]))))\n",
    "        #just concatenate the binary of 2 integers\n",
    "\n",
    "    y = list()\n",
    "    for i in range(len(y_int)):\n",
    "        y.append(int2vec(y_int[i]))\n",
    "        #get binary of sum\n",
    "\n",
    "    x = np.array(x) # of length = 2 * output_dim\n",
    "    y = np.array(y) # of length = output_dim\n",
    "    \n",
    "    return (x,y)"
   ]
  },
  {
   "cell_type": "code",
   "execution_count": 5,
   "metadata": {},
   "outputs": [
    {
     "name": "stdout",
     "output_type": "stream",
     "text": [
      "Input: two concatenated binary values:\n",
      "[ 0.  0.  1.  0.  0.  0.  0.  1.  1.  0.  0.  1.  0.  0.  0.  1.  0.  1.\n",
      "  0.  1.  1.  0.  0.  0.]\n",
      "24\n",
      "\n",
      "Output: binary value of their sum:\n",
      "[ 0.  0.  1.  1.  0.  1.  1.  1.  0.  0.  0.  1.]\n",
      "12\n",
      "\n",
      "\n",
      "1000 1000\n"
     ]
    }
   ],
   "source": [
    "x,y = generate_dataset(num_examples=num_examples, output_dim = output_dim)\n",
    "print(\"Input: two concatenated binary values:\")\n",
    "print(x[0])\n",
    "print len(x[0])\n",
    "print(\"\\nOutput: binary value of their sum:\")\n",
    "print(y[0])\n",
    "print len(y[0])\n",
    "\n",
    "print \"\\n\\n\", len(x), len(y)"
   ]
  },
  {
   "cell_type": "markdown",
   "metadata": {},
   "source": [
    "# Network"
   ]
  },
  {
   "cell_type": "code",
   "execution_count": 6,
   "metadata": {
    "collapsed": true
   },
   "outputs": [],
   "source": [
    "np.random.seed(1)\n",
    "\n",
    "def sigmoid(x):\n",
    "    return 1 / (1 + np.exp(-x))"
   ]
  },
  {
   "cell_type": "code",
   "execution_count": 8,
   "metadata": {},
   "outputs": [
    {
     "name": "stdout",
     "output_type": "stream",
     "text": [
      "Iter:99 Loss:801.912923083\n",
      "Iter:199 Loss:119.33355841\n",
      "Iter:299 Loss:17.3692312253\n",
      "Iter:399 Loss:7.99254301716\n",
      "Iter:499 Loss:4.9352151436\n"
     ]
    }
   ],
   "source": [
    "batch_size = 10\n",
    "alpha = 0.1\n",
    "iterations = 500\n",
    "\n",
    "#define varous layer sizes\n",
    "input_dim = len(x[0])   #24\n",
    "layer_1_dim = 128\n",
    "layer_2_dim = 64\n",
    "output_dim = len(y[0])  #12\n",
    "\n",
    "#initialise weights\n",
    "weights_0_1 = (np.random.randn(input_dim,layer_1_dim) * 0.2) - 0.1\n",
    "weights_1_2 = (np.random.randn(layer_1_dim,layer_2_dim) * 0.2) - 0.1\n",
    "weights_2_3 = (np.random.randn(layer_2_dim,output_dim) * 0.2) - 0.1\n",
    "\n",
    "\n",
    "for iter in range(iterations):\n",
    "    error = 0\n",
    "\n",
    "    for batch_i in range(int(len(x) / batch_size)):\n",
    "        batch_x = x[(batch_i * batch_size):(batch_i+1)*batch_size]\n",
    "        batch_y = y[(batch_i * batch_size):(batch_i+1)*batch_size]    \n",
    "\n",
    "        layer_0 = batch_x\n",
    "        layer_1 = sigmoid(layer_0.dot(weights_0_1))\n",
    "        layer_2 = sigmoid(layer_1.dot(weights_1_2))\n",
    "        layer_3 = sigmoid(layer_2.dot(weights_2_3))\n",
    "\n",
    "        layer_3_delta = (layer_3 - batch_y) * layer_3  * (1 - layer_3)\n",
    "        layer_2_delta = layer_3_delta.dot(weights_2_3.T) * layer_2 * (1 - layer_2)\n",
    "        layer_1_delta = layer_2_delta.dot(weights_1_2.T) * layer_1 * (1 - layer_1)\n",
    "\n",
    "        weights_0_1 -= layer_0.T.dot(layer_1_delta) * alpha\n",
    "        weights_1_2 -= layer_1.T.dot(layer_2_delta) * alpha\n",
    "        weights_2_3 -= layer_2.T.dot(layer_3_delta) * alpha\n",
    "\n",
    "        error += (np.sum(np.abs(layer_3_delta)))\n",
    "\n",
    "    sys.stdout.write(\"\\rIter:\" + str(iter) + \" Loss:\" + str(error))\n",
    "    if(iter % 100 == 99):\n",
    "        print(\"\")"
   ]
  },
  {
   "cell_type": "markdown",
   "metadata": {},
   "source": [
    "# OOPs way"
   ]
  },
  {
   "cell_type": "code",
   "execution_count": 9,
   "metadata": {
    "collapsed": true
   },
   "outputs": [],
   "source": [
    "class Layer(object):\n",
    "    \n",
    "    def __init__(self,input_dim, output_dim,nonlin,nonlin_deriv):\n",
    "        \n",
    "        self.weights = (np.random.randn(input_dim, output_dim) * 0.2) - 0.1\n",
    "        self.nonlin = nonlin\n",
    "        self.nonlin_deriv = nonlin_deriv\n",
    "    \n",
    "    def forward(self,input):\n",
    "        self.input = input\n",
    "        self.output = self.nonlin(self.input.dot(self.weights))\n",
    "        return self.output\n",
    "    \n",
    "    def backward(self,output_delta):\n",
    "        self.weight_output_delta = output_delta * self.nonlin_deriv(self.output)\n",
    "        return self.weight_output_delta.dot(self.weights.T)\n",
    "    \n",
    "    def update(self,alpha=0.1):\n",
    "        self.weights -= self.input.T.dot(self.weight_output_delta) * alpha\n",
    "\n"
   ]
  },
  {
   "cell_type": "code",
   "execution_count": null,
   "metadata": {
    "collapsed": true
   },
   "outputs": [],
   "source": [
    "def sigmoid(x):\n",
    "    return 1 / (1 + np.exp(-x))\n",
    "\n",
    "def sigmoid_out2deriv(out):\n",
    "    return out * (1 - out)"
   ]
  },
  {
   "cell_type": "code",
   "execution_count": null,
   "metadata": {},
   "outputs": [
    {
     "name": "stdout",
     "output_type": "stream",
     "text": [
      "Iter:99 Loss:3662.15339036\n",
      "Iter:199 Loss:745.604224886\n",
      "Iter:299 Loss:300.484057628\n",
      "Iter:399 Loss:214.779353153\n",
      "Iter:409 Loss:209.551468469"
     ]
    }
   ],
   "source": [
    "layer_1 = Layer(input_dim,layer_1_dim,sigmoid,sigmoid_out2deriv)\n",
    "layer_2 = Layer(layer_1_dim,layer_2_dim,sigmoid,sigmoid_out2deriv)\n",
    "layer_3 = Layer(layer_2_dim, output_dim,sigmoid, sigmoid_out2deriv)\n",
    "\n",
    "for iter in range(iterations):\n",
    "    error = 0\n",
    "\n",
    "    for batch_i in range(int(len(x) / batch_size)):\n",
    "        batch_x = x[(batch_i * batch_size):(batch_i+1)*batch_size]\n",
    "        batch_y = y[(batch_i * batch_size):(batch_i+1)*batch_size]  \n",
    "        \n",
    "        layer_1_out = layer_1.forward(batch_x)\n",
    "        layer_2_out = layer_2.forward(layer_1_out)\n",
    "        layer_3_out = layer_3.forward(layer_2_out)\n",
    "\n",
    "        layer_3_delta = layer_3_out - batch_y\n",
    "        layer_2_delta = layer_3.backward(layer_3_delta)\n",
    "        layer_1_delta = layer_2.backward(layer_2_delta)\n",
    "        layer_1.backward(layer_1_delta)\n",
    "        \n",
    "        layer_1.update()\n",
    "        layer_2.update()\n",
    "        layer_3.update()\n",
    "        \n",
    "        error += (np.sum(np.abs(layer_3_delta)))\n",
    "\n",
    "    sys.stdout.write(\"\\rIter:\" + str(iter) + \" Loss:\" + str(error))\n",
    "    if(iter % 100 == 99):\n",
    "        print(\"\")\n"
   ]
  }
 ],
 "metadata": {
  "kernelspec": {
   "display_name": "Python 2",
   "language": "python",
   "name": "python2"
  },
  "language_info": {
   "codemirror_mode": {
    "name": "ipython",
    "version": 2
   },
   "file_extension": ".py",
   "mimetype": "text/x-python",
   "name": "python",
   "nbconvert_exporter": "python",
   "pygments_lexer": "ipython2",
   "version": "2.7.11"
  }
 },
 "nbformat": 4,
 "nbformat_minor": 2
}
